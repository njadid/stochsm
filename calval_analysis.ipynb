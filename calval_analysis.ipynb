{
 "cells": [
  {
   "cell_type": "code",
   "execution_count": 7,
   "source": [
    "import pandas as pd\n",
    "import numpy as np\n",
    "import glob"
   ],
   "outputs": [],
   "metadata": {}
  },
  {
   "cell_type": "markdown",
   "source": [
    "# merge timeseries for calvalsites"
   ],
   "metadata": {}
  },
  {
   "cell_type": "code",
   "execution_count": 21,
   "source": [
    "calval_sites = pd.read_csv('/storage/home/hcoda1/6/njadidoleslam3/p-rbras6-0/projects/stochsm/data/calval_sites.csv', delimiter=',')\n",
    "fn_temp  = '/storage/coda1/p-rbras6/0/njadidoleslam3/gpm/time/{year}/{month}.h5'\n",
    "path_out_fmt = '/storage/home/hcoda1/6/njadidoleslam3/p-rbras6-0/projects/stochsm/data/calval_sites/gpm/'\n",
    "fn_out_fmt = '{site_id}.csv'\n",
    "for site in calval_sites['Site ID']:\n",
    "    fn_out = '/storage/home/hcoda1/6/njadidoleslam3/p-rbras6-0/projects/stochsm/data/calval_sites/gpm/{site}.csv'.format(site = site)\n",
    "    all_filenames = []\n",
    "    for year in range(2015, 2021):\n",
    "        all_filenames += sorted(glob.glob('/storage/coda1/p-rbras6/0/njadidoleslam3/gpm/calval_sites/{year}/*/{site}.csv'.format(year = year, site=site)))\n",
    "    combined_csv = pd.concat([pd.read_csv(f) for f in all_filenames])\n",
    "\n",
    "    combined_csv.to_csv( fn_out, index=False, encoding='utf-8-sig', float_format='%.3f')"
   ],
   "outputs": [],
   "metadata": {}
  },
  {
   "cell_type": "markdown",
   "source": [
    "# get calval site soil properties from Soil Grids"
   ],
   "metadata": {}
  },
  {
   "cell_type": "code",
   "execution_count": null,
   "source": [
    "path = '/storage/coda1/p-rbras6/0/njadidoleslam3/soilgrids'"
   ],
   "outputs": [],
   "metadata": {}
  },
  {
   "cell_type": "code",
   "execution_count": 22,
   "source": [
    "import matplotlib.pyplot as plt\n",
    "plt.plot(pd.to_datetime(combined_csv['dt']), combined_csv['p'])\n",
    "plt.savefig('test_p.png')\n",
    "plt.close()"
   ],
   "outputs": [],
   "metadata": {}
  },
  {
   "cell_type": "code",
   "execution_count": 13,
   "source": [
    "all_filenames"
   ],
   "outputs": [
    {
     "output_type": "execute_result",
     "data": {
      "text/plain": [
       "['/storage/coda1/p-rbras6/0/njadidoleslam3/gpm/calval_sites/2009/04/6701.csv',\n",
       " '/storage/coda1/p-rbras6/0/njadidoleslam3/gpm/calval_sites/2009/01/6701.csv',\n",
       " '/storage/coda1/p-rbras6/0/njadidoleslam3/gpm/calval_sites/2009/02/6701.csv',\n",
       " '/storage/coda1/p-rbras6/0/njadidoleslam3/gpm/calval_sites/2009/03/6701.csv',\n",
       " '/storage/coda1/p-rbras6/0/njadidoleslam3/gpm/calval_sites/2018/04/6701.csv',\n",
       " '/storage/coda1/p-rbras6/0/njadidoleslam3/gpm/calval_sites/2018/11/6701.csv',\n",
       " '/storage/coda1/p-rbras6/0/njadidoleslam3/gpm/calval_sites/2018/01/6701.csv',\n",
       " '/storage/coda1/p-rbras6/0/njadidoleslam3/gpm/calval_sites/2018/09/6701.csv',\n",
       " '/storage/coda1/p-rbras6/0/njadidoleslam3/gpm/calval_sites/2018/02/6701.csv',\n",
       " '/storage/coda1/p-rbras6/0/njadidoleslam3/gpm/calval_sites/2018/06/6701.csv',\n",
       " '/storage/coda1/p-rbras6/0/njadidoleslam3/gpm/calval_sites/2018/07/6701.csv',\n",
       " '/storage/coda1/p-rbras6/0/njadidoleslam3/gpm/calval_sites/2018/12/6701.csv',\n",
       " '/storage/coda1/p-rbras6/0/njadidoleslam3/gpm/calval_sites/2018/03/6701.csv',\n",
       " '/storage/coda1/p-rbras6/0/njadidoleslam3/gpm/calval_sites/2018/05/6701.csv',\n",
       " '/storage/coda1/p-rbras6/0/njadidoleslam3/gpm/calval_sites/2018/10/6701.csv',\n",
       " '/storage/coda1/p-rbras6/0/njadidoleslam3/gpm/calval_sites/2018/08/6701.csv',\n",
       " '/storage/coda1/p-rbras6/0/njadidoleslam3/gpm/calval_sites/2004/04/6701.csv',\n",
       " '/storage/coda1/p-rbras6/0/njadidoleslam3/gpm/calval_sites/2004/01/6701.csv',\n",
       " '/storage/coda1/p-rbras6/0/njadidoleslam3/gpm/calval_sites/2004/02/6701.csv',\n",
       " '/storage/coda1/p-rbras6/0/njadidoleslam3/gpm/calval_sites/2004/03/6701.csv',\n",
       " '/storage/coda1/p-rbras6/0/njadidoleslam3/gpm/calval_sites/2001/04/6701.csv',\n",
       " '/storage/coda1/p-rbras6/0/njadidoleslam3/gpm/calval_sites/2001/01/6701.csv',\n",
       " '/storage/coda1/p-rbras6/0/njadidoleslam3/gpm/calval_sites/2001/02/6701.csv',\n",
       " '/storage/coda1/p-rbras6/0/njadidoleslam3/gpm/calval_sites/2001/03/6701.csv',\n",
       " '/storage/coda1/p-rbras6/0/njadidoleslam3/gpm/calval_sites/2008/04/6701.csv',\n",
       " '/storage/coda1/p-rbras6/0/njadidoleslam3/gpm/calval_sites/2008/01/6701.csv',\n",
       " '/storage/coda1/p-rbras6/0/njadidoleslam3/gpm/calval_sites/2008/02/6701.csv',\n",
       " '/storage/coda1/p-rbras6/0/njadidoleslam3/gpm/calval_sites/2008/03/6701.csv',\n",
       " '/storage/coda1/p-rbras6/0/njadidoleslam3/gpm/calval_sites/2011/04/6701.csv',\n",
       " '/storage/coda1/p-rbras6/0/njadidoleslam3/gpm/calval_sites/2011/01/6701.csv',\n",
       " '/storage/coda1/p-rbras6/0/njadidoleslam3/gpm/calval_sites/2011/02/6701.csv',\n",
       " '/storage/coda1/p-rbras6/0/njadidoleslam3/gpm/calval_sites/2011/03/6701.csv',\n",
       " '/storage/coda1/p-rbras6/0/njadidoleslam3/gpm/calval_sites/2005/04/6701.csv',\n",
       " '/storage/coda1/p-rbras6/0/njadidoleslam3/gpm/calval_sites/2005/01/6701.csv',\n",
       " '/storage/coda1/p-rbras6/0/njadidoleslam3/gpm/calval_sites/2005/02/6701.csv',\n",
       " '/storage/coda1/p-rbras6/0/njadidoleslam3/gpm/calval_sites/2005/03/6701.csv',\n",
       " '/storage/coda1/p-rbras6/0/njadidoleslam3/gpm/calval_sites/2002/04/6701.csv',\n",
       " '/storage/coda1/p-rbras6/0/njadidoleslam3/gpm/calval_sites/2002/01/6701.csv',\n",
       " '/storage/coda1/p-rbras6/0/njadidoleslam3/gpm/calval_sites/2002/02/6701.csv',\n",
       " '/storage/coda1/p-rbras6/0/njadidoleslam3/gpm/calval_sites/2002/03/6701.csv',\n",
       " '/storage/coda1/p-rbras6/0/njadidoleslam3/gpm/calval_sites/2015/04/6701.csv',\n",
       " '/storage/coda1/p-rbras6/0/njadidoleslam3/gpm/calval_sites/2015/11/6701.csv',\n",
       " '/storage/coda1/p-rbras6/0/njadidoleslam3/gpm/calval_sites/2015/01/6701.csv',\n",
       " '/storage/coda1/p-rbras6/0/njadidoleslam3/gpm/calval_sites/2015/09/6701.csv',\n",
       " '/storage/coda1/p-rbras6/0/njadidoleslam3/gpm/calval_sites/2015/02/6701.csv',\n",
       " '/storage/coda1/p-rbras6/0/njadidoleslam3/gpm/calval_sites/2015/06/6701.csv',\n",
       " '/storage/coda1/p-rbras6/0/njadidoleslam3/gpm/calval_sites/2015/07/6701.csv',\n",
       " '/storage/coda1/p-rbras6/0/njadidoleslam3/gpm/calval_sites/2015/12/6701.csv',\n",
       " '/storage/coda1/p-rbras6/0/njadidoleslam3/gpm/calval_sites/2015/03/6701.csv',\n",
       " '/storage/coda1/p-rbras6/0/njadidoleslam3/gpm/calval_sites/2015/05/6701.csv',\n",
       " '/storage/coda1/p-rbras6/0/njadidoleslam3/gpm/calval_sites/2015/10/6701.csv',\n",
       " '/storage/coda1/p-rbras6/0/njadidoleslam3/gpm/calval_sites/2015/08/6701.csv',\n",
       " '/storage/coda1/p-rbras6/0/njadidoleslam3/gpm/calval_sites/2006/04/6701.csv',\n",
       " '/storage/coda1/p-rbras6/0/njadidoleslam3/gpm/calval_sites/2006/01/6701.csv',\n",
       " '/storage/coda1/p-rbras6/0/njadidoleslam3/gpm/calval_sites/2006/02/6701.csv',\n",
       " '/storage/coda1/p-rbras6/0/njadidoleslam3/gpm/calval_sites/2006/03/6701.csv',\n",
       " '/storage/coda1/p-rbras6/0/njadidoleslam3/gpm/calval_sites/2014/04/6701.csv',\n",
       " '/storage/coda1/p-rbras6/0/njadidoleslam3/gpm/calval_sites/2014/01/6701.csv',\n",
       " '/storage/coda1/p-rbras6/0/njadidoleslam3/gpm/calval_sites/2014/02/6701.csv',\n",
       " '/storage/coda1/p-rbras6/0/njadidoleslam3/gpm/calval_sites/2014/03/6701.csv',\n",
       " '/storage/coda1/p-rbras6/0/njadidoleslam3/gpm/calval_sites/2016/04/6701.csv',\n",
       " '/storage/coda1/p-rbras6/0/njadidoleslam3/gpm/calval_sites/2016/11/6701.csv',\n",
       " '/storage/coda1/p-rbras6/0/njadidoleslam3/gpm/calval_sites/2016/01/6701.csv',\n",
       " '/storage/coda1/p-rbras6/0/njadidoleslam3/gpm/calval_sites/2016/09/6701.csv',\n",
       " '/storage/coda1/p-rbras6/0/njadidoleslam3/gpm/calval_sites/2016/02/6701.csv',\n",
       " '/storage/coda1/p-rbras6/0/njadidoleslam3/gpm/calval_sites/2016/06/6701.csv',\n",
       " '/storage/coda1/p-rbras6/0/njadidoleslam3/gpm/calval_sites/2016/07/6701.csv',\n",
       " '/storage/coda1/p-rbras6/0/njadidoleslam3/gpm/calval_sites/2016/12/6701.csv',\n",
       " '/storage/coda1/p-rbras6/0/njadidoleslam3/gpm/calval_sites/2016/03/6701.csv',\n",
       " '/storage/coda1/p-rbras6/0/njadidoleslam3/gpm/calval_sites/2016/05/6701.csv',\n",
       " '/storage/coda1/p-rbras6/0/njadidoleslam3/gpm/calval_sites/2016/10/6701.csv',\n",
       " '/storage/coda1/p-rbras6/0/njadidoleslam3/gpm/calval_sites/2016/08/6701.csv',\n",
       " '/storage/coda1/p-rbras6/0/njadidoleslam3/gpm/calval_sites/2012/04/6701.csv',\n",
       " '/storage/coda1/p-rbras6/0/njadidoleslam3/gpm/calval_sites/2012/01/6701.csv',\n",
       " '/storage/coda1/p-rbras6/0/njadidoleslam3/gpm/calval_sites/2012/02/6701.csv',\n",
       " '/storage/coda1/p-rbras6/0/njadidoleslam3/gpm/calval_sites/2012/03/6701.csv',\n",
       " '/storage/coda1/p-rbras6/0/njadidoleslam3/gpm/calval_sites/2020/04/6701.csv',\n",
       " '/storage/coda1/p-rbras6/0/njadidoleslam3/gpm/calval_sites/2020/11/6701.csv',\n",
       " '/storage/coda1/p-rbras6/0/njadidoleslam3/gpm/calval_sites/2020/01/6701.csv',\n",
       " '/storage/coda1/p-rbras6/0/njadidoleslam3/gpm/calval_sites/2020/09/6701.csv',\n",
       " '/storage/coda1/p-rbras6/0/njadidoleslam3/gpm/calval_sites/2020/02/6701.csv',\n",
       " '/storage/coda1/p-rbras6/0/njadidoleslam3/gpm/calval_sites/2020/06/6701.csv',\n",
       " '/storage/coda1/p-rbras6/0/njadidoleslam3/gpm/calval_sites/2020/07/6701.csv',\n",
       " '/storage/coda1/p-rbras6/0/njadidoleslam3/gpm/calval_sites/2020/12/6701.csv',\n",
       " '/storage/coda1/p-rbras6/0/njadidoleslam3/gpm/calval_sites/2020/03/6701.csv',\n",
       " '/storage/coda1/p-rbras6/0/njadidoleslam3/gpm/calval_sites/2020/05/6701.csv',\n",
       " '/storage/coda1/p-rbras6/0/njadidoleslam3/gpm/calval_sites/2020/10/6701.csv',\n",
       " '/storage/coda1/p-rbras6/0/njadidoleslam3/gpm/calval_sites/2020/08/6701.csv',\n",
       " '/storage/coda1/p-rbras6/0/njadidoleslam3/gpm/calval_sites/2019/04/6701.csv',\n",
       " '/storage/coda1/p-rbras6/0/njadidoleslam3/gpm/calval_sites/2019/11/6701.csv',\n",
       " '/storage/coda1/p-rbras6/0/njadidoleslam3/gpm/calval_sites/2019/01/6701.csv',\n",
       " '/storage/coda1/p-rbras6/0/njadidoleslam3/gpm/calval_sites/2019/09/6701.csv',\n",
       " '/storage/coda1/p-rbras6/0/njadidoleslam3/gpm/calval_sites/2019/02/6701.csv',\n",
       " '/storage/coda1/p-rbras6/0/njadidoleslam3/gpm/calval_sites/2019/06/6701.csv',\n",
       " '/storage/coda1/p-rbras6/0/njadidoleslam3/gpm/calval_sites/2019/07/6701.csv',\n",
       " '/storage/coda1/p-rbras6/0/njadidoleslam3/gpm/calval_sites/2019/12/6701.csv',\n",
       " '/storage/coda1/p-rbras6/0/njadidoleslam3/gpm/calval_sites/2019/03/6701.csv',\n",
       " '/storage/coda1/p-rbras6/0/njadidoleslam3/gpm/calval_sites/2019/05/6701.csv',\n",
       " '/storage/coda1/p-rbras6/0/njadidoleslam3/gpm/calval_sites/2019/10/6701.csv',\n",
       " '/storage/coda1/p-rbras6/0/njadidoleslam3/gpm/calval_sites/2019/08/6701.csv',\n",
       " '/storage/coda1/p-rbras6/0/njadidoleslam3/gpm/calval_sites/2003/04/6701.csv',\n",
       " '/storage/coda1/p-rbras6/0/njadidoleslam3/gpm/calval_sites/2003/01/6701.csv',\n",
       " '/storage/coda1/p-rbras6/0/njadidoleslam3/gpm/calval_sites/2003/02/6701.csv',\n",
       " '/storage/coda1/p-rbras6/0/njadidoleslam3/gpm/calval_sites/2003/03/6701.csv',\n",
       " '/storage/coda1/p-rbras6/0/njadidoleslam3/gpm/calval_sites/2013/04/6701.csv',\n",
       " '/storage/coda1/p-rbras6/0/njadidoleslam3/gpm/calval_sites/2013/01/6701.csv',\n",
       " '/storage/coda1/p-rbras6/0/njadidoleslam3/gpm/calval_sites/2013/02/6701.csv',\n",
       " '/storage/coda1/p-rbras6/0/njadidoleslam3/gpm/calval_sites/2013/03/6701.csv',\n",
       " '/storage/coda1/p-rbras6/0/njadidoleslam3/gpm/calval_sites/2010/04/6701.csv',\n",
       " '/storage/coda1/p-rbras6/0/njadidoleslam3/gpm/calval_sites/2010/01/6701.csv',\n",
       " '/storage/coda1/p-rbras6/0/njadidoleslam3/gpm/calval_sites/2010/02/6701.csv',\n",
       " '/storage/coda1/p-rbras6/0/njadidoleslam3/gpm/calval_sites/2010/03/6701.csv',\n",
       " '/storage/coda1/p-rbras6/0/njadidoleslam3/gpm/calval_sites/2007/04/6701.csv',\n",
       " '/storage/coda1/p-rbras6/0/njadidoleslam3/gpm/calval_sites/2007/01/6701.csv',\n",
       " '/storage/coda1/p-rbras6/0/njadidoleslam3/gpm/calval_sites/2007/02/6701.csv',\n",
       " '/storage/coda1/p-rbras6/0/njadidoleslam3/gpm/calval_sites/2007/03/6701.csv',\n",
       " '/storage/coda1/p-rbras6/0/njadidoleslam3/gpm/calval_sites/2017/04/6701.csv',\n",
       " '/storage/coda1/p-rbras6/0/njadidoleslam3/gpm/calval_sites/2017/11/6701.csv',\n",
       " '/storage/coda1/p-rbras6/0/njadidoleslam3/gpm/calval_sites/2017/01/6701.csv',\n",
       " '/storage/coda1/p-rbras6/0/njadidoleslam3/gpm/calval_sites/2017/09/6701.csv',\n",
       " '/storage/coda1/p-rbras6/0/njadidoleslam3/gpm/calval_sites/2017/02/6701.csv',\n",
       " '/storage/coda1/p-rbras6/0/njadidoleslam3/gpm/calval_sites/2017/06/6701.csv',\n",
       " '/storage/coda1/p-rbras6/0/njadidoleslam3/gpm/calval_sites/2017/07/6701.csv',\n",
       " '/storage/coda1/p-rbras6/0/njadidoleslam3/gpm/calval_sites/2017/12/6701.csv',\n",
       " '/storage/coda1/p-rbras6/0/njadidoleslam3/gpm/calval_sites/2017/03/6701.csv',\n",
       " '/storage/coda1/p-rbras6/0/njadidoleslam3/gpm/calval_sites/2017/05/6701.csv',\n",
       " '/storage/coda1/p-rbras6/0/njadidoleslam3/gpm/calval_sites/2017/10/6701.csv',\n",
       " '/storage/coda1/p-rbras6/0/njadidoleslam3/gpm/calval_sites/2017/08/6701.csv']"
      ]
     },
     "metadata": {},
     "execution_count": 13
    }
   ],
   "metadata": {}
  }
 ],
 "metadata": {
  "orig_nbformat": 4,
  "language_info": {
   "name": "python",
   "version": "3.9.6",
   "mimetype": "text/x-python",
   "codemirror_mode": {
    "name": "ipython",
    "version": 3
   },
   "pygments_lexer": "ipython3",
   "nbconvert_exporter": "python",
   "file_extension": ".py"
  },
  "kernelspec": {
   "name": "python3",
   "display_name": "Python 3.9.6 64-bit ('spatialenv': conda)"
  },
  "interpreter": {
   "hash": "925aebd5683f1be81d14ee2e9ad4ae30666210e90cfac5c7e985c5ad3d3d202e"
  }
 },
 "nbformat": 4,
 "nbformat_minor": 2
}