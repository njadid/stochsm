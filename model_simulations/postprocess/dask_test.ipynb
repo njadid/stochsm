{
 "cells": [
  {
   "cell_type": "code",
   "execution_count": 2,
   "metadata": {},
   "outputs": [],
   "source": [
    "import dask.dataframe as dd\n",
    "import pandas as pd\n",
    "from dask import delayed\n",
    "import os"
   ]
  },
  {
   "cell_type": "code",
   "execution_count": 5,
   "metadata": {},
   "outputs": [],
   "source": [
    "out_file_fmt = '/storage/coda1/p-rbras6/0/njadidoleslam3/gpm/gpm_condsm_monthly_v1/{month}.hdf'\n",
    "\n",
    "for month in range(1, 13):\n",
    "    monthly_data = pd.DataFrame()\n",
    "    for run_id in range(20):\n",
    "        _data = pd.read_hdf('/storage/coda1/p-rbras6/0/njadidoleslam3/gpm/gpm_results_v0_unified/{run_id}.hdf'.format(run_id=run_id), key='data')\n",
    "\n",
    "        idx = _data['month'] == month\n",
    "        _data_month = _data[idx]\n",
    "        \n",
    "        monthly_data = pd.concat([monthly_data, _data_month], axis=0, ignore_index=True)\n",
    "\n",
    "    monthly_data.to_hdf(out_file_fmt.format(month=month), key='data', index=False)\n",
    "\n",
    "\n"
   ]
  },
  {
   "cell_type": "code",
   "execution_count": null,
   "metadata": {},
   "outputs": [],
   "source": []
  }
 ],
 "metadata": {
  "kernelspec": {
   "display_name": "Python 3.9.12",
   "language": "python",
   "name": "python3"
  },
  "language_info": {
   "codemirror_mode": {
    "name": "ipython",
    "version": 3
   },
   "file_extension": ".py",
   "mimetype": "text/x-python",
   "name": "python",
   "nbconvert_exporter": "python",
   "pygments_lexer": "ipython3",
   "version": "3.9.12"
  },
  "orig_nbformat": 4,
  "vscode": {
   "interpreter": {
    "hash": "40a5c7ef5d936ea48248d7664239c511cb11d0697f21ae0012c57f01c55844a7"
   }
  }
 },
 "nbformat": 4,
 "nbformat_minor": 2
}
