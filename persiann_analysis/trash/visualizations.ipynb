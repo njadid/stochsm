{
 "cells": [
  {
   "cell_type": "code",
   "execution_count": null,
   "metadata": {},
   "outputs": [],
   "source": [
    "import time\n",
    "import gzip\n",
    "import numpy as np\n",
    "import pandas as pd\n",
    "import matplotlib.pyplot as plt"
   ]
  },
  {
   "cell_type": "code",
   "execution_count": null,
   "metadata": {},
   "outputs": [],
   "source": [
    "def read_gz(fn):   \n",
    "    # try:\n",
    "    f=gzip.GzipFile(fn)\n",
    "    file_content = f.read()\n",
    "    array = np.frombuffer(file_content, dtype='>f4')\n",
    "    return array.reshape(480,1440, 1)\n",
    "    # except:\n",
    "    #     return np.ones((480, 1440, 1))* -9999.0\n",
    "\n",
    "data = dict()\n",
    "for year in range(2001,2020):\n",
    "    fn1 = '/storage/coda1/p-rbras6/0/njadidoleslam3/projects/stochsm/persiann_analysis/trash/yearly/ms6s4_y{year}.bin.gz'.format(year = str(year)[2:])\n",
    "    data[str(year)] = read_gz(fn1)"
   ]
  },
  {
   "cell_type": "code",
   "execution_count": null,
   "metadata": {},
   "outputs": [],
   "source": [
    "for year in range(2001, 2020):\n",
    "    a1 = np.concatenate((data[str(year)][:,720:,0],data[str(year)][:,:720,0]), axis=1)\n",
    "    fig, ax = plt.subplots(figsize=(20,10))\n",
    "    a = ax.imshow(a1, vmin=0, vmax = 3000, cmap=plt.cm.Blues)\n",
    "    cax = plt.axes([0.92, 0.25, 0.02, 0.5])\n",
    "    plt.colorbar(a, cax=cax)\n",
    "    fig.savefig('figs/{year}'.format(year = year))\n",
    "    plt.close()"
   ]
  }
 ],
 "metadata": {
  "language_info": {
   "name": "python"
  },
  "orig_nbformat": 4
 },
 "nbformat": 4,
 "nbformat_minor": 2
}
