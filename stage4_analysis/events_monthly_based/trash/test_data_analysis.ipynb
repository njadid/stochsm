{
 "cells": [
  {
   "cell_type": "code",
   "execution_count": 1,
   "source": [
    "import pickle\n",
    "import numpy as np\n",
    "import pandas as pd\n",
    "import os\n",
    "import sys\n",
    "# Reorganize data by month\n",
    "def read_pickle(fn):\n",
    "    data_test = []\n",
    "    with open(fn, 'rb') as handle:\n",
    "        try:\n",
    "            while True:\n",
    "                data_test.append(pickle.load(handle))\n",
    "        except EOFError:\n",
    "            pass\n",
    "    return data_test\n",
    "\n"
   ],
   "outputs": [],
   "metadata": {}
  },
  {
   "cell_type": "code",
   "execution_count": 3,
   "source": [
    "in_pick_fmt = '/storage/coda1/p-rbras6/0/njadidoleslam3/projects/stochsm/stage4_analysis/events_mbased/{year}_new.pickle'\n",
    "year = 2001\n"
   ],
   "outputs": [],
   "metadata": {}
  },
  {
   "cell_type": "code",
   "execution_count": 4,
   "source": [
    "in_pickle = in_pick_fmt.format(year = year)\n",
    "data_test = read_pickle(in_pickle)"
   ],
   "outputs": [],
   "metadata": {}
  },
  {
   "cell_type": "code",
   "execution_count": 77,
   "source": [
    "if len(data_test[550][550]) > 2:\n",
    "    for m_vec in data_test[550][550][2:]:\n",
    "        bool_month = m_vec[0][0] == 3\n",
    "        if bool_month:\n",
    "            event_dur = m_vec[1]\n",
    "            dry_vec = m_vec[2]\n",
    "            intensity = m_vec[3]\n",
    "            n_events = len(event_dur)\n",
    "            for i in range(n_events):\n",
    "                _events_all.append([grid_xy, event_dur[i],intensity[i],dry_vec[i]])\n"
   ],
   "outputs": [],
   "metadata": {}
  },
  {
   "cell_type": "code",
   "execution_count": 78,
   "source": [
    "_events_all"
   ],
   "outputs": [
    {
     "output_type": "execute_result",
     "data": {
      "text/plain": [
       "[[100000000, 5, 1.332, 348],\n",
       " [100000000, 11, 0.09818181818181816, 13],\n",
       " [100000000, 3, 0.61, 184],\n",
       " [100000000, 1, 0.32, 32],\n",
       " [100000000, 29, 0.04931034482758621, 122],\n",
       " [100000000, 1, 0.17, 44],\n",
       " [100000000, 6, 1.6966666666666665, 12],\n",
       " [100000000, 5, 1.332, 348],\n",
       " [100000000, 11, 0.09818181818181816, 13],\n",
       " [100000000, 3, 0.61, 184],\n",
       " [100000000, 1, 0.32, 32],\n",
       " [100000000, 29, 0.04931034482758621, 122],\n",
       " [100000000, 1, 0.17, 44],\n",
       " [100000000, 6, 1.6966666666666665, 12]]"
      ]
     },
     "metadata": {},
     "execution_count": 78
    }
   ],
   "metadata": {}
  },
  {
   "cell_type": "code",
   "execution_count": 66,
   "source": [
    "_events_all = []\n",
    "for i_y in range(len(data_test)): # loop over grid_y\n",
    "    for i_x in range(len(data_test[i_y])): # loop over grid_x\n",
    "        grid_xy = int(data_test[i_y][i_x][0])\n",
    "        if len(data_test[i_y][i_x]) > 2:\n",
    "            for m_vec in data_test[i_y][i_x][2:]:\n",
    "                bool_month = m_vec[0][0] == 3\n",
    "                if bool_month:\n",
    "                    event_dur = m_vec[1]\n",
    "                    dry_vec = m_vec[2]\n",
    "                    intensity = m_vec[3]\n",
    "                    n_events = len(event_dur)\n",
    "                    for i in range(n_events):\n",
    "                        _events_all.append([grid_xy, event_dur[i],intensity[i],dry_vec[i]])"
   ],
   "outputs": [
    {
     "output_type": "error",
     "ename": "IndexError",
     "evalue": "list index out of range",
     "traceback": [
      "\u001b[0;31m---------------------------------------------------------------------------\u001b[0m",
      "\u001b[0;31mIndexError\u001b[0m                                Traceback (most recent call last)",
      "\u001b[0;32m/tmp/ipykernel_187178/3310028475.py\u001b[0m in \u001b[0;36m<module>\u001b[0;34m\u001b[0m\n\u001b[1;32m      4\u001b[0m         \u001b[0mgrid_xy\u001b[0m \u001b[0;34m=\u001b[0m \u001b[0mint\u001b[0m\u001b[0;34m(\u001b[0m\u001b[0mdata_test\u001b[0m\u001b[0;34m[\u001b[0m\u001b[0mi_y\u001b[0m\u001b[0;34m]\u001b[0m\u001b[0;34m[\u001b[0m\u001b[0mi_x\u001b[0m\u001b[0;34m]\u001b[0m\u001b[0;34m[\u001b[0m\u001b[0;36m0\u001b[0m\u001b[0;34m]\u001b[0m\u001b[0;34m)\u001b[0m\u001b[0;34m\u001b[0m\u001b[0;34m\u001b[0m\u001b[0m\n\u001b[1;32m      5\u001b[0m         \u001b[0mn_months\u001b[0m \u001b[0;34m=\u001b[0m \u001b[0mlen\u001b[0m\u001b[0;34m(\u001b[0m\u001b[0mdata_test\u001b[0m\u001b[0;34m[\u001b[0m\u001b[0;36m550\u001b[0m\u001b[0;34m]\u001b[0m\u001b[0;34m[\u001b[0m\u001b[0;36m550\u001b[0m\u001b[0;34m]\u001b[0m\u001b[0;34m[\u001b[0m\u001b[0;36m2\u001b[0m\u001b[0;34m:\u001b[0m\u001b[0;34m]\u001b[0m\u001b[0;34m)\u001b[0m\u001b[0;34m\u001b[0m\u001b[0;34m\u001b[0m\u001b[0m\n\u001b[0;32m----> 6\u001b[0;31m         \u001b[0midx\u001b[0m \u001b[0;34m=\u001b[0m \u001b[0mdata_test\u001b[0m\u001b[0;34m[\u001b[0m\u001b[0mi_y\u001b[0m\u001b[0;34m]\u001b[0m\u001b[0;34m[\u001b[0m\u001b[0mi_x\u001b[0m\u001b[0;34m]\u001b[0m\u001b[0;34m[\u001b[0m\u001b[0;36m3\u001b[0m\u001b[0;34m]\u001b[0m\u001b[0;34m[\u001b[0m\u001b[0;36m0\u001b[0m\u001b[0;34m]\u001b[0m \u001b[0;34m==\u001b[0m \u001b[0mmonth\u001b[0m\u001b[0;34m\u001b[0m\u001b[0;34m\u001b[0m\u001b[0m\n\u001b[0m\u001b[1;32m      7\u001b[0m         \u001b[0mn_events\u001b[0m \u001b[0;34m=\u001b[0m \u001b[0msum\u001b[0m\u001b[0;34m(\u001b[0m\u001b[0midx\u001b[0m\u001b[0;34m)\u001b[0m\u001b[0;34m\u001b[0m\u001b[0;34m\u001b[0m\u001b[0m\n\u001b[1;32m      8\u001b[0m         \u001b[0;32mif\u001b[0m \u001b[0mn_events\u001b[0m \u001b[0;34m>\u001b[0m\u001b[0;36m0\u001b[0m\u001b[0;34m:\u001b[0m\u001b[0;34m\u001b[0m\u001b[0;34m\u001b[0m\u001b[0m\n",
      "\u001b[0;31mIndexError\u001b[0m: list index out of range"
     ]
    }
   ],
   "metadata": {}
  },
  {
   "cell_type": "code",
   "execution_count": 97,
   "source": [
    "\n",
    "#####\n",
    "# SHAPE FILES  TO BE ADDED TO GPM ALGORITHM\n",
    "# fn_st_grid_masked = '/storage/coda1/p-rbras6/0/njadidoleslam3/projects/stochsm/data/gis_files/st4/stage4_grid_new.shp'\n",
    "# st4_grid_masked = gpd.read_file(fn_st_grid_masked)\n",
    "#####\n",
    "pickle_fmt = '/storage/coda1/p-rbras6/0/njadidoleslam3/projects/stochsm/stage4_analysis/events_mbased/monthly/{month}_new.pickle'\n",
    "in_pick_fmt = '/storage/coda1/p-rbras6/0/njadidoleslam3/projects/stochsm/stage4_analysis/events_mbased/{year}_new.pickle'\n",
    "#\n",
    "#####\n",
    "month = 12\n",
    "# month = 1\n",
    "\n",
    "### Generate year list and shuffle for avoiding I/O problems\n",
    "year_list = np.arange(2000,2021)\n",
    "np.random.seed()\n",
    "np.random.shuffle(year_list)\n",
    "###\n",
    "\n",
    "fn_out_pickle = pickle_fmt.format(month = month)\n",
    "\n",
    "with open(fn_out_pickle, 'wb') as handle:\n",
    "# events_all = []\n",
    "    for year in year_list:\n",
    "        in_pickle = in_pick_fmt.format(year = year)\n",
    "        data_test = read_pickle(in_pickle)\n",
    "\n",
    "        _events_all = []\n",
    "        for i_y in range(len(data_test)): # loop over grid_y\n",
    "            for i_x in range(len(data_test[i_y])): # loop over grid_x\n",
    "                grid_xy = int(data_test[i_y][i_x][0])\n",
    "                if len(data_test[i_y][i_x]) > 2:\n",
    "                    for m_vec in data_test[i_y][i_x][2:]:\n",
    "                        if len(m_vec[0]) > 0:\n",
    "                            bool_month = m_vec[0][0] == month\n",
    "                            if bool_month:\n",
    "                                event_dur = m_vec[1]\n",
    "                                dry_vec = m_vec[2]\n",
    "                                intensity = m_vec[3]\n",
    "                                n_events = len(event_dur)\n",
    "                                for i in range(n_events):\n",
    "                                    _events_all.append([grid_xy, event_dur[i],intensity[i],dry_vec[i]])\n",
    "        pickle.dump(_events_all, handle, protocol= pickle.HIGHEST_PROTOCOL) \n"
   ],
   "outputs": [
    {
     "output_type": "error",
     "ename": "KeyboardInterrupt",
     "evalue": "",
     "traceback": [
      "\u001b[0;31m---------------------------------------------------------------------------\u001b[0m",
      "\u001b[0;31mKeyboardInterrupt\u001b[0m                         Traceback (most recent call last)",
      "\u001b[0;32m/tmp/ipykernel_187178/1010332458.py\u001b[0m in \u001b[0;36m<module>\u001b[0;34m\u001b[0m\n\u001b[1;32m     40\u001b[0m                                 \u001b[0;32mfor\u001b[0m \u001b[0mi\u001b[0m \u001b[0;32min\u001b[0m \u001b[0mrange\u001b[0m\u001b[0;34m(\u001b[0m\u001b[0mn_events\u001b[0m\u001b[0;34m)\u001b[0m\u001b[0;34m:\u001b[0m\u001b[0;34m\u001b[0m\u001b[0;34m\u001b[0m\u001b[0m\n\u001b[1;32m     41\u001b[0m                                     \u001b[0m_events_all\u001b[0m\u001b[0;34m.\u001b[0m\u001b[0mappend\u001b[0m\u001b[0;34m(\u001b[0m\u001b[0;34m[\u001b[0m\u001b[0mgrid_xy\u001b[0m\u001b[0;34m,\u001b[0m \u001b[0mevent_dur\u001b[0m\u001b[0;34m[\u001b[0m\u001b[0mi\u001b[0m\u001b[0;34m]\u001b[0m\u001b[0;34m,\u001b[0m\u001b[0mintensity\u001b[0m\u001b[0;34m[\u001b[0m\u001b[0mi\u001b[0m\u001b[0;34m]\u001b[0m\u001b[0;34m,\u001b[0m\u001b[0mdry_vec\u001b[0m\u001b[0;34m[\u001b[0m\u001b[0mi\u001b[0m\u001b[0;34m]\u001b[0m\u001b[0;34m]\u001b[0m\u001b[0;34m)\u001b[0m\u001b[0;34m\u001b[0m\u001b[0;34m\u001b[0m\u001b[0m\n\u001b[0;32m---> 42\u001b[0;31m         \u001b[0mpickle\u001b[0m\u001b[0;34m.\u001b[0m\u001b[0mdump\u001b[0m\u001b[0;34m(\u001b[0m\u001b[0m_events_all\u001b[0m\u001b[0;34m,\u001b[0m \u001b[0mhandle\u001b[0m\u001b[0;34m,\u001b[0m \u001b[0mprotocol\u001b[0m\u001b[0;34m=\u001b[0m \u001b[0mpickle\u001b[0m\u001b[0;34m.\u001b[0m\u001b[0mHIGHEST_PROTOCOL\u001b[0m\u001b[0;34m)\u001b[0m\u001b[0;34m\u001b[0m\u001b[0;34m\u001b[0m\u001b[0m\n\u001b[0m",
      "\u001b[0;31mKeyboardInterrupt\u001b[0m: "
     ]
    }
   ],
   "metadata": {}
  },
  {
   "cell_type": "code",
   "execution_count": 96,
   "source": [
    "len(m_vec[0])>0"
   ],
   "outputs": [
    {
     "output_type": "execute_result",
     "data": {
      "text/plain": [
       "0"
      ]
     },
     "metadata": {},
     "execution_count": 96
    }
   ],
   "metadata": {}
  },
  {
   "cell_type": "code",
   "execution_count": 91,
   "source": [
    "[12,12,12] ==12"
   ],
   "outputs": [
    {
     "output_type": "execute_result",
     "data": {
      "text/plain": [
       "False"
      ]
     },
     "metadata": {},
     "execution_count": 91
    }
   ],
   "metadata": {}
  }
 ],
 "metadata": {
  "orig_nbformat": 4,
  "language_info": {
   "name": "python",
   "version": "3.9.6",
   "mimetype": "text/x-python",
   "codemirror_mode": {
    "name": "ipython",
    "version": 3
   },
   "pygments_lexer": "ipython3",
   "nbconvert_exporter": "python",
   "file_extension": ".py"
  },
  "kernelspec": {
   "name": "python3",
   "display_name": "Python 3.9.6 64-bit (conda)"
  },
  "interpreter": {
   "hash": "8123462de7ea43a2d996973cbf510d4f29e6ad95875a57645dd7d3660e19a56d"
  }
 },
 "nbformat": 4,
 "nbformat_minor": 2
}