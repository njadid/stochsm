{
 "cells": [
  {
   "cell_type": "code",
   "execution_count": 2,
   "metadata": {},
   "outputs": [],
   "source": [
    "import h5py\n",
    "import glob\n",
    "import numpy as np\n",
    "year = 2001\n",
    "fn_list = sorted(glob.glob('/storage/coda1/p-rbras6/0/njadidoleslam3/gpm1.gesdisc.eosdis.nasa.gov/data/GPM_L3/GPM_3IMERGHH.06/{year}/*/*.HDF5'.format(year = year)))\n"
   ]
  },
  {
   "cell_type": "code",
   "execution_count": 6,
   "metadata": {},
   "outputs": [],
   "source": [
    "data_temp = np.ones((360, 1800, int(len(fn_list)/2)), dtype=np.float16)"
   ]
  },
  {
   "cell_type": "code",
   "execution_count": 1,
   "metadata": {},
   "outputs": [
    {
     "ename": "NameError",
     "evalue": "name 'np' is not defined",
     "output_type": "error",
     "traceback": [
      "\u001b[0;31m---------------------------------------------------------------------------\u001b[0m",
      "\u001b[0;31mNameError\u001b[0m                                 Traceback (most recent call last)",
      "\u001b[0;32m/tmp/ipykernel_44188/2424315822.py\u001b[0m in \u001b[0;36m<module>\u001b[0;34m\u001b[0m\n\u001b[1;32m     10\u001b[0m \u001b[0;34m\u001b[0m\u001b[0m\n\u001b[1;32m     11\u001b[0m \u001b[0;32mfor\u001b[0m \u001b[0mlon_i\u001b[0m \u001b[0;32min\u001b[0m \u001b[0mrange\u001b[0m\u001b[0;34m(\u001b[0m\u001b[0;36m0\u001b[0m\u001b[0;34m,\u001b[0m \u001b[0;36m10\u001b[0m\u001b[0;34m)\u001b[0m\u001b[0;34m:\u001b[0m     \u001b[0;31m# iterating over 5 regions divided by longitude\u001b[0m\u001b[0;34m\u001b[0m\u001b[0;34m\u001b[0m\u001b[0m\n\u001b[0;32m---> 12\u001b[0;31m     \u001b[0mdata_temp\u001b[0m \u001b[0;34m=\u001b[0m \u001b[0mnp\u001b[0m\u001b[0;34m.\u001b[0m\u001b[0mones\u001b[0m\u001b[0;34m(\u001b[0m\u001b[0;34m(\u001b[0m\u001b[0;36m360\u001b[0m\u001b[0;34m,\u001b[0m \u001b[0;36m1800\u001b[0m\u001b[0;34m,\u001b[0m \u001b[0mint\u001b[0m\u001b[0;34m(\u001b[0m\u001b[0mlen\u001b[0m\u001b[0;34m(\u001b[0m\u001b[0mfn_list\u001b[0m\u001b[0;34m)\u001b[0m\u001b[0;34m/\u001b[0m\u001b[0;36m2\u001b[0m\u001b[0;34m)\u001b[0m\u001b[0;34m)\u001b[0m\u001b[0;34m,\u001b[0m \u001b[0mdtype\u001b[0m\u001b[0;34m=\u001b[0m\u001b[0mnp\u001b[0m\u001b[0;34m.\u001b[0m\u001b[0mfloat16\u001b[0m\u001b[0;34m)\u001b[0m\u001b[0;34m\u001b[0m\u001b[0;34m\u001b[0m\u001b[0m\n\u001b[0m\u001b[1;32m     13\u001b[0m     \u001b[0;32mfor\u001b[0m \u001b[0mi\u001b[0m \u001b[0;32min\u001b[0m \u001b[0mrange\u001b[0m\u001b[0;34m(\u001b[0m\u001b[0mint\u001b[0m\u001b[0;34m(\u001b[0m\u001b[0mlen\u001b[0m\u001b[0;34m(\u001b[0m\u001b[0mfn_list\u001b[0m\u001b[0;34m)\u001b[0m\u001b[0;34m/\u001b[0m\u001b[0;36m2\u001b[0m\u001b[0;34m)\u001b[0m\u001b[0;34m)\u001b[0m\u001b[0;34m:\u001b[0m\u001b[0;34m\u001b[0m\u001b[0;34m\u001b[0m\u001b[0m\n\u001b[1;32m     14\u001b[0m         \u001b[0mfn1\u001b[0m \u001b[0;34m=\u001b[0m \u001b[0mfn_list\u001b[0m\u001b[0;34m[\u001b[0m\u001b[0;36m2\u001b[0m\u001b[0;34m*\u001b[0m\u001b[0mi\u001b[0m\u001b[0;34m]\u001b[0m\u001b[0;34m\u001b[0m\u001b[0;34m\u001b[0m\u001b[0m\n",
      "\u001b[0;31mNameError\u001b[0m: name 'np' is not defined"
     ]
    }
   ],
   "source": [
    "# %%timeit \n",
    "def read_h5(fn, lon_i):\n",
    "    try:\n",
    "        f = h5py.File(fn, 'r')\n",
    "        dset = f['Grid/precipitationCal'][0,360*lon_i:360*(lon_i+1),:]\n",
    "        dset[dset==-9999.9] = -99\n",
    "        return dset.astype(np.float16)\n",
    "    except:\n",
    "        return np.ones((360, 1800), dtype=np.float16)* -99\n",
    "\n",
    "for lon_i in range(0, 10):     # iterating over 5 regions divided by longitude\n",
    "    data_temp = np.ones((360, 1800, int(len(fn_list)/2)), dtype=np.float16)\n",
    "    for i in range(int(len(fn_list)/2)):\n",
    "        fn1 = fn_list[2*i]\n",
    "        fn2 = fn_list[2*i + 1]\n",
    "        dset1 = read_h5(fn1, lon_i)\n",
    "        dset2 = read_h5(fn2, lon_i)\n",
    "        average = np.array((dset1,dset2)).mean(axis=0)\n",
    "        data_temp[:, :, i] = average.astype(np.float16)\n"
   ]
  },
  {
   "cell_type": "code",
   "execution_count": 6,
   "metadata": {},
   "outputs": [
    {
     "data": {
      "text/plain": [
       "True"
      ]
     },
     "execution_count": 6,
     "metadata": {},
     "output_type": "execute_result"
    }
   ],
   "source": [
    "sum((dset1[:,200] + dset2[:,200])/2 == average[:,200]) == len(average[:,200])"
   ]
  },
  {
   "cell_type": "code",
   "execution_count": 4,
   "metadata": {},
   "outputs": [
    {
     "name": "stdout",
     "output_type": "stream",
     "text": [
      "8760\n",
      "8760\n",
      "8760\n",
      "8784\n",
      "8760\n",
      "8760\n",
      "8760\n",
      "8784\n",
      "8760\n",
      "8760\n",
      "8760\n",
      "8784\n",
      "8760\n",
      "8760\n",
      "8760\n",
      "8784\n",
      "8760\n",
      "8760\n",
      "8760\n",
      "8784\n"
     ]
    }
   ],
   "source": [
    "############## CHECKING DATA SIZE CONSISTENCY FOR ALL YEARS ##############\n",
    "with open('/storage/coda1/p-rbras6/0/njadidoleslam3/projects/stochsm/gpm_analysis/trash/data_len.txt', 'w') as f_log:\n",
    "        \n",
    "    for year in range(2001,2021):\n",
    "        fn_list = sorted(glob.glob('/storage/coda1/p-rbras6/0/njadidoleslam3/gpm1.gesdisc.eosdis.nasa.gov/data/GPM_L3/GPM_3IMERGHH.06/{year}/*/*.HDF5'.format(year = year)))\n",
    "        print(int(len(fn_list)/2))\n",
    "        f_log.write('{year}, {len}, {odd_even} \\n'.format(year = year , len = len(fn_list), odd_even = len(fn_list) %2 == 0))\n",
    "f_log.close()\n",
    "############## OK ##############"
   ]
  },
  {
   "cell_type": "code",
   "execution_count": 5,
   "metadata": {},
   "outputs": [
    {
     "data": {
      "text/plain": [
       "array([ True])"
      ]
     },
     "execution_count": 5,
     "metadata": {},
     "output_type": "execute_result"
    }
   ],
   "source": [
    "np.array([99]).astype(np.float16) < 65535"
   ]
  },
  {
   "cell_type": "code",
   "execution_count": 7,
   "metadata": {},
   "outputs": [
    {
     "name": "stdout",
     "output_type": "stream",
     "text": [
      "Size of data with 100 timestamps: 10.60 GB\n",
      "Size of final data: 10.60 GB\n"
     ]
    }
   ],
   "source": [
    "print('Size of data with 100 timestamps: {:.2f}'.format(data_temp.nbytes/1024**3) , 'GB')\n",
    "print('Size of final data: {:.2f}'.format(data_temp.nbytes/(1024**3)) , 'GB')"
   ]
  },
  {
   "cell_type": "code",
   "execution_count": 13,
   "metadata": {},
   "outputs": [],
   "source": [
    "a = np.random.normal(size = (360,1800,9000))"
   ]
  },
  {
   "cell_type": "code",
   "execution_count": null,
   "metadata": {},
   "outputs": [
    {
     "data": {
      "text/plain": [
       "array([ 360.37434185, 1800.23017455, 8998.73822473])"
      ]
     },
     "execution_count": 12,
     "metadata": {},
     "output_type": "execute_result"
    }
   ],
   "source": [
    "a.nbytes/1024**3"
   ]
  },
  {
   "cell_type": "markdown",
   "metadata": {},
   "source": [
    "# test performance with GDAL and chunks of the array"
   ]
  },
  {
   "cell_type": "code",
   "execution_count": 68,
   "metadata": {},
   "outputs": [],
   "source": [
    "from osgeo import gdal\n",
    "import glob\n",
    "import numpy as np\n",
    "year = 2001\n",
    "fn_list = sorted(glob.glob('/storage/coda1/p-rbras6/0/njadidoleslam3/gpm1.gesdisc.eosdis.nasa.gov/data/GPM_L3/GPM_3IMERGHH.06/{year}/*/*.HDF5'.format(year = year)))\n",
    "\n",
    "fn_temp = 'HDF5:\"{fn}\"://Grid/precipitationCal'"
   ]
  },
  {
   "cell_type": "code",
   "execution_count": 69,
   "metadata": {},
   "outputs": [],
   "source": [
    "# %%timeit\n",
    "for lon_i in range(0, 5):     # iterating over 3600 elements\n",
    "    \n",
    "    data_temp = np.ones((360, 1800, len(fn_list[0:100])), dtype=np.int16)\n",
    "    for i, fn in enumerate(fn_list[0:100]):\n",
    "        fn_in = fn_temp.format(fn = fn)\n",
    "        f = gdal.Open(fn_in)\n",
    "        dset = f.ReadAsArray()[360*lon_i:360*(lon_i+1),:]\n",
    "        dset[dset==-9999.9] = -99\n",
    "        data_temp[:, :, i] = dset.astype(np.int16)"
   ]
  },
  {
   "cell_type": "code",
   "execution_count": 62,
   "metadata": {},
   "outputs": [
    {
     "name": "stdout",
     "output_type": "stream",
     "text": [
      "Size of data with 100 timestamps: 0.12 GB\n",
      "Size of final data: 21.15 GB\n"
     ]
    }
   ],
   "source": [
    "print('Size of data with 100 timestamps: {:.2f}'.format(data_temp.nbytes/1024**3) , 'GB')\n",
    "print('Size of final data: {:.2f}'.format(data_temp.nbytes/(1024**3)*len(fn_list)/100) , 'GB')"
   ]
  },
  {
   "cell_type": "markdown",
   "metadata": {},
   "source": [
    "# test performance without chunk"
   ]
  },
  {
   "cell_type": "code",
   "execution_count": 70,
   "metadata": {},
   "outputs": [],
   "source": [
    "# %%timeit\n",
    "fn_temp = 'HDF5:\"{fn}\"://Grid/precipitationCal'\n",
    "for lon_i in range(0, 1):     # iterating over 3600 elements\n",
    "    \n",
    "    data_temp = np.ones((3600, 1800, len(fn_list[0:100])), dtype=np.float16)\n",
    "    for i, fn in enumerate(fn_list[0:100]):\n",
    "        fn_in = fn_temp.format(fn = fn)\n",
    "        f = gdal.Open(fn_in)\n",
    "        dset = f.ReadAsArray()\n",
    "        dset[dset==-9999.9] = -99\n",
    "        # dset = dset*100\n",
    "        data_temp[:, :, i] = dset.astype(np.float16)"
   ]
  },
  {
   "cell_type": "code",
   "execution_count": 74,
   "metadata": {},
   "outputs": [
    {
     "name": "stdout",
     "output_type": "stream",
     "text": [
      "Size of final data: 211.47 GB\n"
     ]
    }
   ],
   "source": [
    "print('Size of final data: {:.2f}'.format(data_temp.nbytes/1024**3*len(fn_list)/100) , 'GB')"
   ]
  },
  {
   "cell_type": "markdown",
   "metadata": {},
   "source": [
    "# Test result:\n",
    "\n",
    "## Only difference is the "
   ]
  },
  {
   "cell_type": "code",
   "execution_count": 75,
   "metadata": {},
   "outputs": [],
   "source": [
    "import xarray as xar"
   ]
  },
  {
   "cell_type": "code",
   "execution_count": 76,
   "metadata": {},
   "outputs": [],
   "source": [
    "\n",
    "drop_vars =  [\n",
    "    'time_bnds',\n",
    " 'lon_bnds',\n",
    " 'lat_bnds',\n",
    " 'precipitationUncal',\n",
    " 'randomError',\n",
    " 'HQprecipitation',\n",
    " 'HQprecipSource',\n",
    " 'HQobservationTime',\n",
    " 'IRprecipitation',\n",
    " 'IRkalmanFilterWeight',\n",
    " 'probabilityLiquidPrecipitation',\n",
    " 'precipitationQualityIndex']\n",
    "dset = xar.open_mfdataset(fn_list[:100], parallel = False, group='Grid', data_vars='minimal', drop_variables=drop_vars, concat_dim=['time'], coords=['time'], combine='by_coords')"
   ]
  },
  {
   "cell_type": "code",
   "execution_count": 77,
   "metadata": {},
   "outputs": [],
   "source": [
    "aa = dset.load()"
   ]
  },
  {
   "cell_type": "code",
   "execution_count": 81,
   "metadata": {},
   "outputs": [
    {
     "data": {
      "text/plain": [
       "422.93437242507935"
      ]
     },
     "execution_count": 81,
     "metadata": {},
     "output_type": "execute_result"
    }
   ],
   "source": [
    "aa.nbytes/1024**3*len(fn_list)/100"
   ]
  },
  {
   "cell_type": "code",
   "execution_count": 78,
   "metadata": {},
   "outputs": [
    {
     "data": {
      "text/html": [
       "<div><svg style=\"position: absolute; width: 0; height: 0; overflow: hidden\">\n",
       "<defs>\n",
       "<symbol id=\"icon-database\" viewBox=\"0 0 32 32\">\n",
       "<path d=\"M16 0c-8.837 0-16 2.239-16 5v4c0 2.761 7.163 5 16 5s16-2.239 16-5v-4c0-2.761-7.163-5-16-5z\"></path>\n",
       "<path d=\"M16 17c-8.837 0-16-2.239-16-5v6c0 2.761 7.163 5 16 5s16-2.239 16-5v-6c0 2.761-7.163 5-16 5z\"></path>\n",
       "<path d=\"M16 26c-8.837 0-16-2.239-16-5v6c0 2.761 7.163 5 16 5s16-2.239 16-5v-6c0 2.761-7.163 5-16 5z\"></path>\n",
       "</symbol>\n",
       "<symbol id=\"icon-file-text2\" viewBox=\"0 0 32 32\">\n",
       "<path d=\"M28.681 7.159c-0.694-0.947-1.662-2.053-2.724-3.116s-2.169-2.030-3.116-2.724c-1.612-1.182-2.393-1.319-2.841-1.319h-15.5c-1.378 0-2.5 1.121-2.5 2.5v27c0 1.378 1.122 2.5 2.5 2.5h23c1.378 0 2.5-1.122 2.5-2.5v-19.5c0-0.448-0.137-1.23-1.319-2.841zM24.543 5.457c0.959 0.959 1.712 1.825 2.268 2.543h-4.811v-4.811c0.718 0.556 1.584 1.309 2.543 2.268zM28 29.5c0 0.271-0.229 0.5-0.5 0.5h-23c-0.271 0-0.5-0.229-0.5-0.5v-27c0-0.271 0.229-0.5 0.5-0.5 0 0 15.499-0 15.5 0v7c0 0.552 0.448 1 1 1h7v19.5z\"></path>\n",
       "<path d=\"M23 26h-14c-0.552 0-1-0.448-1-1s0.448-1 1-1h14c0.552 0 1 0.448 1 1s-0.448 1-1 1z\"></path>\n",
       "<path d=\"M23 22h-14c-0.552 0-1-0.448-1-1s0.448-1 1-1h14c0.552 0 1 0.448 1 1s-0.448 1-1 1z\"></path>\n",
       "<path d=\"M23 18h-14c-0.552 0-1-0.448-1-1s0.448-1 1-1h14c0.552 0 1 0.448 1 1s-0.448 1-1 1z\"></path>\n",
       "</symbol>\n",
       "</defs>\n",
       "</svg>\n",
       "<style>/* CSS stylesheet for displaying xarray objects in jupyterlab.\n",
       " *\n",
       " */\n",
       "\n",
       ":root {\n",
       "  --xr-font-color0: var(--jp-content-font-color0, rgba(0, 0, 0, 1));\n",
       "  --xr-font-color2: var(--jp-content-font-color2, rgba(0, 0, 0, 0.54));\n",
       "  --xr-font-color3: var(--jp-content-font-color3, rgba(0, 0, 0, 0.38));\n",
       "  --xr-border-color: var(--jp-border-color2, #e0e0e0);\n",
       "  --xr-disabled-color: var(--jp-layout-color3, #bdbdbd);\n",
       "  --xr-background-color: var(--jp-layout-color0, white);\n",
       "  --xr-background-color-row-even: var(--jp-layout-color1, white);\n",
       "  --xr-background-color-row-odd: var(--jp-layout-color2, #eeeeee);\n",
       "}\n",
       "\n",
       "html[theme=dark],\n",
       "body.vscode-dark {\n",
       "  --xr-font-color0: rgba(255, 255, 255, 1);\n",
       "  --xr-font-color2: rgba(255, 255, 255, 0.54);\n",
       "  --xr-font-color3: rgba(255, 255, 255, 0.38);\n",
       "  --xr-border-color: #1F1F1F;\n",
       "  --xr-disabled-color: #515151;\n",
       "  --xr-background-color: #111111;\n",
       "  --xr-background-color-row-even: #111111;\n",
       "  --xr-background-color-row-odd: #313131;\n",
       "}\n",
       "\n",
       ".xr-wrap {\n",
       "  display: block;\n",
       "  min-width: 300px;\n",
       "  max-width: 700px;\n",
       "}\n",
       "\n",
       ".xr-text-repr-fallback {\n",
       "  /* fallback to plain text repr when CSS is not injected (untrusted notebook) */\n",
       "  display: none;\n",
       "}\n",
       "\n",
       ".xr-header {\n",
       "  padding-top: 6px;\n",
       "  padding-bottom: 6px;\n",
       "  margin-bottom: 4px;\n",
       "  border-bottom: solid 1px var(--xr-border-color);\n",
       "}\n",
       "\n",
       ".xr-header > div,\n",
       ".xr-header > ul {\n",
       "  display: inline;\n",
       "  margin-top: 0;\n",
       "  margin-bottom: 0;\n",
       "}\n",
       "\n",
       ".xr-obj-type,\n",
       ".xr-array-name {\n",
       "  margin-left: 2px;\n",
       "  margin-right: 10px;\n",
       "}\n",
       "\n",
       ".xr-obj-type {\n",
       "  color: var(--xr-font-color2);\n",
       "}\n",
       "\n",
       ".xr-sections {\n",
       "  padding-left: 0 !important;\n",
       "  display: grid;\n",
       "  grid-template-columns: 150px auto auto 1fr 20px 20px;\n",
       "}\n",
       "\n",
       ".xr-section-item {\n",
       "  display: contents;\n",
       "}\n",
       "\n",
       ".xr-section-item input {\n",
       "  display: none;\n",
       "}\n",
       "\n",
       ".xr-section-item input + label {\n",
       "  color: var(--xr-disabled-color);\n",
       "}\n",
       "\n",
       ".xr-section-item input:enabled + label {\n",
       "  cursor: pointer;\n",
       "  color: var(--xr-font-color2);\n",
       "}\n",
       "\n",
       ".xr-section-item input:enabled + label:hover {\n",
       "  color: var(--xr-font-color0);\n",
       "}\n",
       "\n",
       ".xr-section-summary {\n",
       "  grid-column: 1;\n",
       "  color: var(--xr-font-color2);\n",
       "  font-weight: 500;\n",
       "}\n",
       "\n",
       ".xr-section-summary > span {\n",
       "  display: inline-block;\n",
       "  padding-left: 0.5em;\n",
       "}\n",
       "\n",
       ".xr-section-summary-in:disabled + label {\n",
       "  color: var(--xr-font-color2);\n",
       "}\n",
       "\n",
       ".xr-section-summary-in + label:before {\n",
       "  display: inline-block;\n",
       "  content: '►';\n",
       "  font-size: 11px;\n",
       "  width: 15px;\n",
       "  text-align: center;\n",
       "}\n",
       "\n",
       ".xr-section-summary-in:disabled + label:before {\n",
       "  color: var(--xr-disabled-color);\n",
       "}\n",
       "\n",
       ".xr-section-summary-in:checked + label:before {\n",
       "  content: '▼';\n",
       "}\n",
       "\n",
       ".xr-section-summary-in:checked + label > span {\n",
       "  display: none;\n",
       "}\n",
       "\n",
       ".xr-section-summary,\n",
       ".xr-section-inline-details {\n",
       "  padding-top: 4px;\n",
       "  padding-bottom: 4px;\n",
       "}\n",
       "\n",
       ".xr-section-inline-details {\n",
       "  grid-column: 2 / -1;\n",
       "}\n",
       "\n",
       ".xr-section-details {\n",
       "  display: none;\n",
       "  grid-column: 1 / -1;\n",
       "  margin-bottom: 5px;\n",
       "}\n",
       "\n",
       ".xr-section-summary-in:checked ~ .xr-section-details {\n",
       "  display: contents;\n",
       "}\n",
       "\n",
       ".xr-array-wrap {\n",
       "  grid-column: 1 / -1;\n",
       "  display: grid;\n",
       "  grid-template-columns: 20px auto;\n",
       "}\n",
       "\n",
       ".xr-array-wrap > label {\n",
       "  grid-column: 1;\n",
       "  vertical-align: top;\n",
       "}\n",
       "\n",
       ".xr-preview {\n",
       "  color: var(--xr-font-color3);\n",
       "}\n",
       "\n",
       ".xr-array-preview,\n",
       ".xr-array-data {\n",
       "  padding: 0 5px !important;\n",
       "  grid-column: 2;\n",
       "}\n",
       "\n",
       ".xr-array-data,\n",
       ".xr-array-in:checked ~ .xr-array-preview {\n",
       "  display: none;\n",
       "}\n",
       "\n",
       ".xr-array-in:checked ~ .xr-array-data,\n",
       ".xr-array-preview {\n",
       "  display: inline-block;\n",
       "}\n",
       "\n",
       ".xr-dim-list {\n",
       "  display: inline-block !important;\n",
       "  list-style: none;\n",
       "  padding: 0 !important;\n",
       "  margin: 0;\n",
       "}\n",
       "\n",
       ".xr-dim-list li {\n",
       "  display: inline-block;\n",
       "  padding: 0;\n",
       "  margin: 0;\n",
       "}\n",
       "\n",
       ".xr-dim-list:before {\n",
       "  content: '(';\n",
       "}\n",
       "\n",
       ".xr-dim-list:after {\n",
       "  content: ')';\n",
       "}\n",
       "\n",
       ".xr-dim-list li:not(:last-child):after {\n",
       "  content: ',';\n",
       "  padding-right: 5px;\n",
       "}\n",
       "\n",
       ".xr-has-index {\n",
       "  font-weight: bold;\n",
       "}\n",
       "\n",
       ".xr-var-list,\n",
       ".xr-var-item {\n",
       "  display: contents;\n",
       "}\n",
       "\n",
       ".xr-var-item > div,\n",
       ".xr-var-item label,\n",
       ".xr-var-item > .xr-var-name span {\n",
       "  background-color: var(--xr-background-color-row-even);\n",
       "  margin-bottom: 0;\n",
       "}\n",
       "\n",
       ".xr-var-item > .xr-var-name:hover span {\n",
       "  padding-right: 5px;\n",
       "}\n",
       "\n",
       ".xr-var-list > li:nth-child(odd) > div,\n",
       ".xr-var-list > li:nth-child(odd) > label,\n",
       ".xr-var-list > li:nth-child(odd) > .xr-var-name span {\n",
       "  background-color: var(--xr-background-color-row-odd);\n",
       "}\n",
       "\n",
       ".xr-var-name {\n",
       "  grid-column: 1;\n",
       "}\n",
       "\n",
       ".xr-var-dims {\n",
       "  grid-column: 2;\n",
       "}\n",
       "\n",
       ".xr-var-dtype {\n",
       "  grid-column: 3;\n",
       "  text-align: right;\n",
       "  color: var(--xr-font-color2);\n",
       "}\n",
       "\n",
       ".xr-var-preview {\n",
       "  grid-column: 4;\n",
       "}\n",
       "\n",
       ".xr-var-name,\n",
       ".xr-var-dims,\n",
       ".xr-var-dtype,\n",
       ".xr-preview,\n",
       ".xr-attrs dt {\n",
       "  white-space: nowrap;\n",
       "  overflow: hidden;\n",
       "  text-overflow: ellipsis;\n",
       "  padding-right: 10px;\n",
       "}\n",
       "\n",
       ".xr-var-name:hover,\n",
       ".xr-var-dims:hover,\n",
       ".xr-var-dtype:hover,\n",
       ".xr-attrs dt:hover {\n",
       "  overflow: visible;\n",
       "  width: auto;\n",
       "  z-index: 1;\n",
       "}\n",
       "\n",
       ".xr-var-attrs,\n",
       ".xr-var-data {\n",
       "  display: none;\n",
       "  background-color: var(--xr-background-color) !important;\n",
       "  padding-bottom: 5px !important;\n",
       "}\n",
       "\n",
       ".xr-var-attrs-in:checked ~ .xr-var-attrs,\n",
       ".xr-var-data-in:checked ~ .xr-var-data {\n",
       "  display: block;\n",
       "}\n",
       "\n",
       ".xr-var-data > table {\n",
       "  float: right;\n",
       "}\n",
       "\n",
       ".xr-var-name span,\n",
       ".xr-var-data,\n",
       ".xr-attrs {\n",
       "  padding-left: 25px !important;\n",
       "}\n",
       "\n",
       ".xr-attrs,\n",
       ".xr-var-attrs,\n",
       ".xr-var-data {\n",
       "  grid-column: 1 / -1;\n",
       "}\n",
       "\n",
       "dl.xr-attrs {\n",
       "  padding: 0;\n",
       "  margin: 0;\n",
       "  display: grid;\n",
       "  grid-template-columns: 125px auto;\n",
       "}\n",
       "\n",
       ".xr-attrs dt,\n",
       ".xr-attrs dd {\n",
       "  padding: 0;\n",
       "  margin: 0;\n",
       "  float: left;\n",
       "  padding-right: 10px;\n",
       "  width: auto;\n",
       "}\n",
       "\n",
       ".xr-attrs dt {\n",
       "  font-weight: normal;\n",
       "  grid-column: 1;\n",
       "}\n",
       "\n",
       ".xr-attrs dt:hover span {\n",
       "  display: inline-block;\n",
       "  background: var(--xr-background-color);\n",
       "  padding-right: 10px;\n",
       "}\n",
       "\n",
       ".xr-attrs dd {\n",
       "  grid-column: 2;\n",
       "  white-space: pre-wrap;\n",
       "  word-break: break-all;\n",
       "}\n",
       "\n",
       ".xr-icon-database,\n",
       ".xr-icon-file-text2 {\n",
       "  display: inline-block;\n",
       "  vertical-align: middle;\n",
       "  width: 1em;\n",
       "  height: 1.5em !important;\n",
       "  stroke-width: 0;\n",
       "  stroke: currentColor;\n",
       "  fill: currentColor;\n",
       "}\n",
       "</style><pre class='xr-text-repr-fallback'>&lt;xarray.DataArray &#x27;precipitationCal&#x27; (time: 100)&gt;\n",
       "array([nan, nan, nan, nan, nan, nan, nan, nan, nan, nan, nan, nan, nan,\n",
       "       nan, nan, nan, nan, nan, nan, nan, nan, nan, nan, nan, nan, nan,\n",
       "       nan, nan, nan, nan, nan, nan, nan, nan, nan, nan, nan, nan, nan,\n",
       "       nan, nan, nan, nan, nan, nan, nan, nan, nan, nan, nan, nan, nan,\n",
       "       nan, nan, nan, nan, nan, nan, nan, nan, nan, nan, nan, nan, nan,\n",
       "       nan, nan, nan, nan, nan, nan, nan, nan, nan, nan, nan, nan, nan,\n",
       "       nan, nan, nan, nan, nan, nan, nan, nan, nan, nan, nan, nan, nan,\n",
       "       nan, nan, nan, nan, nan, nan, nan, nan, nan], dtype=float32)\n",
       "Coordinates:\n",
       "  * time     (time) object 2001-01-01 00:00:00 ... 2001-01-03 01:30:00\n",
       "    lon      float32 -179.9\n",
       "    lat      float32 -89.95\n",
       "Attributes:\n",
       "    DimensionNames:    time,lon,lat\n",
       "    Units:             mm/hr\n",
       "    units:             mm/hr\n",
       "    CodeMissingValue:  -9999.9</pre><div class='xr-wrap' hidden><div class='xr-header'><div class='xr-obj-type'>xarray.DataArray</div><div class='xr-array-name'>'precipitationCal'</div><ul class='xr-dim-list'><li><span class='xr-has-index'>time</span>: 100</li></ul></div><ul class='xr-sections'><li class='xr-section-item'><div class='xr-array-wrap'><input id='section-ee396c4e-cb17-48bd-94f2-03d5434c7cba' class='xr-array-in' type='checkbox' checked><label for='section-ee396c4e-cb17-48bd-94f2-03d5434c7cba' title='Show/hide data repr'><svg class='icon xr-icon-database'><use xlink:href='#icon-database'></use></svg></label><div class='xr-array-preview xr-preview'><span>nan nan nan nan nan nan nan nan ... nan nan nan nan nan nan nan nan</span></div><div class='xr-array-data'><pre>array([nan, nan, nan, nan, nan, nan, nan, nan, nan, nan, nan, nan, nan,\n",
       "       nan, nan, nan, nan, nan, nan, nan, nan, nan, nan, nan, nan, nan,\n",
       "       nan, nan, nan, nan, nan, nan, nan, nan, nan, nan, nan, nan, nan,\n",
       "       nan, nan, nan, nan, nan, nan, nan, nan, nan, nan, nan, nan, nan,\n",
       "       nan, nan, nan, nan, nan, nan, nan, nan, nan, nan, nan, nan, nan,\n",
       "       nan, nan, nan, nan, nan, nan, nan, nan, nan, nan, nan, nan, nan,\n",
       "       nan, nan, nan, nan, nan, nan, nan, nan, nan, nan, nan, nan, nan,\n",
       "       nan, nan, nan, nan, nan, nan, nan, nan, nan], dtype=float32)</pre></div></div></li><li class='xr-section-item'><input id='section-e32bfde7-334b-4fea-a8b4-b8af1479170a' class='xr-section-summary-in' type='checkbox'  checked><label for='section-e32bfde7-334b-4fea-a8b4-b8af1479170a' class='xr-section-summary' >Coordinates: <span>(3)</span></label><div class='xr-section-inline-details'></div><div class='xr-section-details'><ul class='xr-var-list'><li class='xr-var-item'><div class='xr-var-name'><span class='xr-has-index'>time</span></div><div class='xr-var-dims'>(time)</div><div class='xr-var-dtype'>object</div><div class='xr-var-preview xr-preview'>2001-01-01 00:00:00 ... 2001-01-...</div><input id='attrs-2355bfe0-48dd-4dc4-b339-ffd07cc4c8a2' class='xr-var-attrs-in' type='checkbox' ><label for='attrs-2355bfe0-48dd-4dc4-b339-ffd07cc4c8a2' title='Show/Hide attributes'><svg class='icon xr-icon-file-text2'><use xlink:href='#icon-file-text2'></use></svg></label><input id='data-752ba379-ca55-49b4-9a8c-20d73130a7e9' class='xr-var-data-in' type='checkbox'><label for='data-752ba379-ca55-49b4-9a8c-20d73130a7e9' title='Show/Hide data repr'><svg class='icon xr-icon-database'><use xlink:href='#icon-database'></use></svg></label><div class='xr-var-attrs'><dl class='xr-attrs'><dt><span>DimensionNames :</span></dt><dd>time</dd><dt><span>Units :</span></dt><dd>seconds since 1970-01-01 00:00:00 UTC</dd><dt><span>standard_name :</span></dt><dd>time</dd><dt><span>LongName :</span></dt><dd>Representative time of data in \n",
       "\t\t\tseconds since 1970-01-01 00:00:00 UTC.</dd><dt><span>bounds :</span></dt><dd>time_bnds</dd><dt><span>axis :</span></dt><dd>T</dd></dl></div><div class='xr-var-data'><pre>array([cftime.DatetimeJulian(2001, 1, 1, 0, 0, 0, 0, has_year_zero=False),\n",
       "       cftime.DatetimeJulian(2001, 1, 1, 0, 30, 0, 0, has_year_zero=False),\n",
       "       cftime.DatetimeJulian(2001, 1, 1, 1, 0, 0, 0, has_year_zero=False),\n",
       "       cftime.DatetimeJulian(2001, 1, 1, 1, 30, 0, 0, has_year_zero=False),\n",
       "       cftime.DatetimeJulian(2001, 1, 1, 2, 0, 0, 0, has_year_zero=False),\n",
       "       cftime.DatetimeJulian(2001, 1, 1, 2, 30, 0, 0, has_year_zero=False),\n",
       "       cftime.DatetimeJulian(2001, 1, 1, 3, 0, 0, 0, has_year_zero=False),\n",
       "       cftime.DatetimeJulian(2001, 1, 1, 3, 30, 0, 0, has_year_zero=False),\n",
       "       cftime.DatetimeJulian(2001, 1, 1, 4, 0, 0, 0, has_year_zero=False),\n",
       "       cftime.DatetimeJulian(2001, 1, 1, 4, 30, 0, 0, has_year_zero=False),\n",
       "       cftime.DatetimeJulian(2001, 1, 1, 5, 0, 0, 0, has_year_zero=False),\n",
       "       cftime.DatetimeJulian(2001, 1, 1, 5, 30, 0, 0, has_year_zero=False),\n",
       "       cftime.DatetimeJulian(2001, 1, 1, 6, 0, 0, 0, has_year_zero=False),\n",
       "       cftime.DatetimeJulian(2001, 1, 1, 6, 30, 0, 0, has_year_zero=False),\n",
       "       cftime.DatetimeJulian(2001, 1, 1, 7, 0, 0, 0, has_year_zero=False),\n",
       "       cftime.DatetimeJulian(2001, 1, 1, 7, 30, 0, 0, has_year_zero=False),\n",
       "       cftime.DatetimeJulian(2001, 1, 1, 8, 0, 0, 0, has_year_zero=False),\n",
       "       cftime.DatetimeJulian(2001, 1, 1, 8, 30, 0, 0, has_year_zero=False),\n",
       "       cftime.DatetimeJulian(2001, 1, 1, 9, 0, 0, 0, has_year_zero=False),\n",
       "       cftime.DatetimeJulian(2001, 1, 1, 9, 30, 0, 0, has_year_zero=False),\n",
       "       cftime.DatetimeJulian(2001, 1, 1, 10, 0, 0, 0, has_year_zero=False),\n",
       "       cftime.DatetimeJulian(2001, 1, 1, 10, 30, 0, 0, has_year_zero=False),\n",
       "       cftime.DatetimeJulian(2001, 1, 1, 11, 0, 0, 0, has_year_zero=False),\n",
       "       cftime.DatetimeJulian(2001, 1, 1, 11, 30, 0, 0, has_year_zero=False),\n",
       "       cftime.DatetimeJulian(2001, 1, 1, 12, 0, 0, 0, has_year_zero=False),\n",
       "       cftime.DatetimeJulian(2001, 1, 1, 12, 30, 0, 0, has_year_zero=False),\n",
       "       cftime.DatetimeJulian(2001, 1, 1, 13, 0, 0, 0, has_year_zero=False),\n",
       "       cftime.DatetimeJulian(2001, 1, 1, 13, 30, 0, 0, has_year_zero=False),\n",
       "       cftime.DatetimeJulian(2001, 1, 1, 14, 0, 0, 0, has_year_zero=False),\n",
       "       cftime.DatetimeJulian(2001, 1, 1, 14, 30, 0, 0, has_year_zero=False),\n",
       "       cftime.DatetimeJulian(2001, 1, 1, 15, 0, 0, 0, has_year_zero=False),\n",
       "       cftime.DatetimeJulian(2001, 1, 1, 15, 30, 0, 0, has_year_zero=False),\n",
       "       cftime.DatetimeJulian(2001, 1, 1, 16, 0, 0, 0, has_year_zero=False),\n",
       "       cftime.DatetimeJulian(2001, 1, 1, 16, 30, 0, 0, has_year_zero=False),\n",
       "       cftime.DatetimeJulian(2001, 1, 1, 17, 0, 0, 0, has_year_zero=False),\n",
       "       cftime.DatetimeJulian(2001, 1, 1, 17, 30, 0, 0, has_year_zero=False),\n",
       "       cftime.DatetimeJulian(2001, 1, 1, 18, 0, 0, 0, has_year_zero=False),\n",
       "       cftime.DatetimeJulian(2001, 1, 1, 18, 30, 0, 0, has_year_zero=False),\n",
       "       cftime.DatetimeJulian(2001, 1, 1, 19, 0, 0, 0, has_year_zero=False),\n",
       "       cftime.DatetimeJulian(2001, 1, 1, 19, 30, 0, 0, has_year_zero=False),\n",
       "       cftime.DatetimeJulian(2001, 1, 1, 20, 0, 0, 0, has_year_zero=False),\n",
       "       cftime.DatetimeJulian(2001, 1, 1, 20, 30, 0, 0, has_year_zero=False),\n",
       "       cftime.DatetimeJulian(2001, 1, 1, 21, 0, 0, 0, has_year_zero=False),\n",
       "       cftime.DatetimeJulian(2001, 1, 1, 21, 30, 0, 0, has_year_zero=False),\n",
       "       cftime.DatetimeJulian(2001, 1, 1, 22, 0, 0, 0, has_year_zero=False),\n",
       "       cftime.DatetimeJulian(2001, 1, 1, 22, 30, 0, 0, has_year_zero=False),\n",
       "       cftime.DatetimeJulian(2001, 1, 1, 23, 0, 0, 0, has_year_zero=False),\n",
       "       cftime.DatetimeJulian(2001, 1, 1, 23, 30, 0, 0, has_year_zero=False),\n",
       "       cftime.DatetimeJulian(2001, 1, 2, 0, 0, 0, 0, has_year_zero=False),\n",
       "       cftime.DatetimeJulian(2001, 1, 2, 0, 30, 0, 0, has_year_zero=False),\n",
       "       cftime.DatetimeJulian(2001, 1, 2, 1, 0, 0, 0, has_year_zero=False),\n",
       "       cftime.DatetimeJulian(2001, 1, 2, 1, 30, 0, 0, has_year_zero=False),\n",
       "       cftime.DatetimeJulian(2001, 1, 2, 2, 0, 0, 0, has_year_zero=False),\n",
       "       cftime.DatetimeJulian(2001, 1, 2, 2, 30, 0, 0, has_year_zero=False),\n",
       "       cftime.DatetimeJulian(2001, 1, 2, 3, 0, 0, 0, has_year_zero=False),\n",
       "       cftime.DatetimeJulian(2001, 1, 2, 3, 30, 0, 0, has_year_zero=False),\n",
       "       cftime.DatetimeJulian(2001, 1, 2, 4, 0, 0, 0, has_year_zero=False),\n",
       "       cftime.DatetimeJulian(2001, 1, 2, 4, 30, 0, 0, has_year_zero=False),\n",
       "       cftime.DatetimeJulian(2001, 1, 2, 5, 0, 0, 0, has_year_zero=False),\n",
       "       cftime.DatetimeJulian(2001, 1, 2, 5, 30, 0, 0, has_year_zero=False),\n",
       "       cftime.DatetimeJulian(2001, 1, 2, 6, 0, 0, 0, has_year_zero=False),\n",
       "       cftime.DatetimeJulian(2001, 1, 2, 6, 30, 0, 0, has_year_zero=False),\n",
       "       cftime.DatetimeJulian(2001, 1, 2, 7, 0, 0, 0, has_year_zero=False),\n",
       "       cftime.DatetimeJulian(2001, 1, 2, 7, 30, 0, 0, has_year_zero=False),\n",
       "       cftime.DatetimeJulian(2001, 1, 2, 8, 0, 0, 0, has_year_zero=False),\n",
       "       cftime.DatetimeJulian(2001, 1, 2, 8, 30, 0, 0, has_year_zero=False),\n",
       "       cftime.DatetimeJulian(2001, 1, 2, 9, 0, 0, 0, has_year_zero=False),\n",
       "       cftime.DatetimeJulian(2001, 1, 2, 9, 30, 0, 0, has_year_zero=False),\n",
       "       cftime.DatetimeJulian(2001, 1, 2, 10, 0, 0, 0, has_year_zero=False),\n",
       "       cftime.DatetimeJulian(2001, 1, 2, 10, 30, 0, 0, has_year_zero=False),\n",
       "       cftime.DatetimeJulian(2001, 1, 2, 11, 0, 0, 0, has_year_zero=False),\n",
       "       cftime.DatetimeJulian(2001, 1, 2, 11, 30, 0, 0, has_year_zero=False),\n",
       "       cftime.DatetimeJulian(2001, 1, 2, 12, 0, 0, 0, has_year_zero=False),\n",
       "       cftime.DatetimeJulian(2001, 1, 2, 12, 30, 0, 0, has_year_zero=False),\n",
       "       cftime.DatetimeJulian(2001, 1, 2, 13, 0, 0, 0, has_year_zero=False),\n",
       "       cftime.DatetimeJulian(2001, 1, 2, 13, 30, 0, 0, has_year_zero=False),\n",
       "       cftime.DatetimeJulian(2001, 1, 2, 14, 0, 0, 0, has_year_zero=False),\n",
       "       cftime.DatetimeJulian(2001, 1, 2, 14, 30, 0, 0, has_year_zero=False),\n",
       "       cftime.DatetimeJulian(2001, 1, 2, 15, 0, 0, 0, has_year_zero=False),\n",
       "       cftime.DatetimeJulian(2001, 1, 2, 15, 30, 0, 0, has_year_zero=False),\n",
       "       cftime.DatetimeJulian(2001, 1, 2, 16, 0, 0, 0, has_year_zero=False),\n",
       "       cftime.DatetimeJulian(2001, 1, 2, 16, 30, 0, 0, has_year_zero=False),\n",
       "       cftime.DatetimeJulian(2001, 1, 2, 17, 0, 0, 0, has_year_zero=False),\n",
       "       cftime.DatetimeJulian(2001, 1, 2, 17, 30, 0, 0, has_year_zero=False),\n",
       "       cftime.DatetimeJulian(2001, 1, 2, 18, 0, 0, 0, has_year_zero=False),\n",
       "       cftime.DatetimeJulian(2001, 1, 2, 18, 30, 0, 0, has_year_zero=False),\n",
       "       cftime.DatetimeJulian(2001, 1, 2, 19, 0, 0, 0, has_year_zero=False),\n",
       "       cftime.DatetimeJulian(2001, 1, 2, 19, 30, 0, 0, has_year_zero=False),\n",
       "       cftime.DatetimeJulian(2001, 1, 2, 20, 0, 0, 0, has_year_zero=False),\n",
       "       cftime.DatetimeJulian(2001, 1, 2, 20, 30, 0, 0, has_year_zero=False),\n",
       "       cftime.DatetimeJulian(2001, 1, 2, 21, 0, 0, 0, has_year_zero=False),\n",
       "       cftime.DatetimeJulian(2001, 1, 2, 21, 30, 0, 0, has_year_zero=False),\n",
       "       cftime.DatetimeJulian(2001, 1, 2, 22, 0, 0, 0, has_year_zero=False),\n",
       "       cftime.DatetimeJulian(2001, 1, 2, 22, 30, 0, 0, has_year_zero=False),\n",
       "       cftime.DatetimeJulian(2001, 1, 2, 23, 0, 0, 0, has_year_zero=False),\n",
       "       cftime.DatetimeJulian(2001, 1, 2, 23, 30, 0, 0, has_year_zero=False),\n",
       "       cftime.DatetimeJulian(2001, 1, 3, 0, 0, 0, 0, has_year_zero=False),\n",
       "       cftime.DatetimeJulian(2001, 1, 3, 0, 30, 0, 0, has_year_zero=False),\n",
       "       cftime.DatetimeJulian(2001, 1, 3, 1, 0, 0, 0, has_year_zero=False),\n",
       "       cftime.DatetimeJulian(2001, 1, 3, 1, 30, 0, 0, has_year_zero=False)],\n",
       "      dtype=object)</pre></div></li><li class='xr-var-item'><div class='xr-var-name'><span>lon</span></div><div class='xr-var-dims'>()</div><div class='xr-var-dtype'>float32</div><div class='xr-var-preview xr-preview'>-179.9</div><input id='attrs-e54ff2b6-e529-40e2-b9fa-88c117d049ad' class='xr-var-attrs-in' type='checkbox' ><label for='attrs-e54ff2b6-e529-40e2-b9fa-88c117d049ad' title='Show/Hide attributes'><svg class='icon xr-icon-file-text2'><use xlink:href='#icon-file-text2'></use></svg></label><input id='data-cffd66fa-8077-46cd-9a1a-6ac00ff51e50' class='xr-var-data-in' type='checkbox'><label for='data-cffd66fa-8077-46cd-9a1a-6ac00ff51e50' title='Show/Hide data repr'><svg class='icon xr-icon-database'><use xlink:href='#icon-database'></use></svg></label><div class='xr-var-attrs'><dl class='xr-attrs'><dt><span>DimensionNames :</span></dt><dd>lon</dd><dt><span>Units :</span></dt><dd>degrees_east</dd><dt><span>units :</span></dt><dd>degrees_east</dd><dt><span>standard_name :</span></dt><dd>longitude</dd><dt><span>LongName :</span></dt><dd>Longitude at the center of\n",
       "\t\t\t0.10 degree grid intervals of longitude \n",
       "\t\t\tfrom -180 to 180.</dd><dt><span>bounds :</span></dt><dd>lon_bnds</dd><dt><span>axis :</span></dt><dd>X</dd></dl></div><div class='xr-var-data'><pre>array(-179.95, dtype=float32)</pre></div></li><li class='xr-var-item'><div class='xr-var-name'><span>lat</span></div><div class='xr-var-dims'>()</div><div class='xr-var-dtype'>float32</div><div class='xr-var-preview xr-preview'>-89.95</div><input id='attrs-64b6522a-564d-4fea-996b-5b678007c1ea' class='xr-var-attrs-in' type='checkbox' ><label for='attrs-64b6522a-564d-4fea-996b-5b678007c1ea' title='Show/Hide attributes'><svg class='icon xr-icon-file-text2'><use xlink:href='#icon-file-text2'></use></svg></label><input id='data-d321d47e-ec9e-415c-9a34-724bea6aeb76' class='xr-var-data-in' type='checkbox'><label for='data-d321d47e-ec9e-415c-9a34-724bea6aeb76' title='Show/Hide data repr'><svg class='icon xr-icon-database'><use xlink:href='#icon-database'></use></svg></label><div class='xr-var-attrs'><dl class='xr-attrs'><dt><span>DimensionNames :</span></dt><dd>lat</dd><dt><span>Units :</span></dt><dd>degrees_north</dd><dt><span>units :</span></dt><dd>degrees_north</dd><dt><span>standard_name :</span></dt><dd>latitude</dd><dt><span>LongName :</span></dt><dd>Latitude at the center of\n",
       "\t\t\t0.10 degree grid intervals of latitude\n",
       "\t\t\tfrom -90 to 90.</dd><dt><span>bounds :</span></dt><dd>lat_bnds</dd><dt><span>axis :</span></dt><dd>Y</dd></dl></div><div class='xr-var-data'><pre>array(-89.95, dtype=float32)</pre></div></li></ul></div></li><li class='xr-section-item'><input id='section-dafb217b-1840-4425-bac9-d6830bf6b811' class='xr-section-summary-in' type='checkbox'  checked><label for='section-dafb217b-1840-4425-bac9-d6830bf6b811' class='xr-section-summary' >Attributes: <span>(4)</span></label><div class='xr-section-inline-details'></div><div class='xr-section-details'><dl class='xr-attrs'><dt><span>DimensionNames :</span></dt><dd>time,lon,lat</dd><dt><span>Units :</span></dt><dd>mm/hr</dd><dt><span>units :</span></dt><dd>mm/hr</dd><dt><span>CodeMissingValue :</span></dt><dd>-9999.9</dd></dl></div></li></ul></div></div>"
      ],
      "text/plain": [
       "<xarray.DataArray 'precipitationCal' (time: 100)>\n",
       "array([nan, nan, nan, nan, nan, nan, nan, nan, nan, nan, nan, nan, nan,\n",
       "       nan, nan, nan, nan, nan, nan, nan, nan, nan, nan, nan, nan, nan,\n",
       "       nan, nan, nan, nan, nan, nan, nan, nan, nan, nan, nan, nan, nan,\n",
       "       nan, nan, nan, nan, nan, nan, nan, nan, nan, nan, nan, nan, nan,\n",
       "       nan, nan, nan, nan, nan, nan, nan, nan, nan, nan, nan, nan, nan,\n",
       "       nan, nan, nan, nan, nan, nan, nan, nan, nan, nan, nan, nan, nan,\n",
       "       nan, nan, nan, nan, nan, nan, nan, nan, nan, nan, nan, nan, nan,\n",
       "       nan, nan, nan, nan, nan, nan, nan, nan, nan], dtype=float32)\n",
       "Coordinates:\n",
       "  * time     (time) object 2001-01-01 00:00:00 ... 2001-01-03 01:30:00\n",
       "    lon      float32 -179.9\n",
       "    lat      float32 -89.95\n",
       "Attributes:\n",
       "    DimensionNames:    time,lon,lat\n",
       "    Units:             mm/hr\n",
       "    units:             mm/hr\n",
       "    CodeMissingValue:  -9999.9"
      ]
     },
     "execution_count": 78,
     "metadata": {},
     "output_type": "execute_result"
    }
   ],
   "source": [
    "aa['precipitationCal'][:,0,0]"
   ]
  },
  {
   "cell_type": "code",
   "execution_count": 47,
   "metadata": {},
   "outputs": [
    {
     "data": {
      "text/plain": [
       "[<matplotlib.lines.Line2D at 0x7fff5e87f820>]"
      ]
     },
     "execution_count": 47,
     "metadata": {},
     "output_type": "execute_result"
    },
    {
     "data": {
      "image/png": "[encoded data removed]",
      "text/plain": [
       "<Figure size 432x288 with 1 Axes>"
      ]
     },
     "metadata": {
      "needs_background": "light"
     },
     "output_type": "display_data"
    }
   ],
   "source": [
    "import matplotlib.pyplot as plt\n",
    "# plt.plot(dset[:,0])\n",
    "plt.plot(data_temp[340,500,:])"
   ]
  },
  {
   "cell_type": "code",
   "execution_count": 40,
   "metadata": {},
   "outputs": [
    {
     "name": "stdout",
     "output_type": "stream",
     "text": [
      "4.26 ms ± 79.2 µs per loop (mean ± std. dev. of 7 runs, 1 loop each)\n",
      "4.53 ms ± 36.1 µs per loop (mean ± std. dev. of 7 runs, 100 loops each)\n"
     ]
    }
   ],
   "source": [
    "fn_in = fn_temp.format(fn = fn_list[10000])\n",
    "f = gdal.Open(fn_in)\n",
    "%timeit dset = f.ReadAsArray()[:,0:180]\n",
    "%timeit dset = f.ReadAsArray()[0:145, :]\n",
    "\n"
   ]
  },
  {
   "cell_type": "code",
   "execution_count": null,
   "metadata": {},
   "outputs": [],
   "source": [
    "import numpy as np\n",
    "import pandas as pd\n",
    "import matplotlib.pyplot as plt\n",
    "# lon, lat =np.meshgrid(lon,lat)\n",
    "\n",
    "fig, ax = plt.subplots(figsize=(20,10))\n",
    "a = ax.imshow(data1[:, :, i], vmin=0, vmax = 500, cmap=plt.cm.Blues)\n",
    "cax = plt.axes([0.92, 0.25, 0.02, 0.5])\n",
    "plt.colorbar(a, cax=cax)"
   ]
  }
 ],
 "metadata": {
  "interpreter": {
   "hash": "6fb92f3461c509d152ca0c3709cd3caad85692a0aadd9ca38a55b1789f3285ab"
  },
  "kernelspec": {
   "display_name": "Python 3.9.6 64-bit (conda)",
   "name": "python3"
  },
  "language_info": {
   "codemirror_mode": {
    "name": "ipython",
    "version": 3
   },
   "file_extension": ".py",
   "mimetype": "text/x-python",
   "name": "python",
   "nbconvert_exporter": "python",
   "pygments_lexer": "ipython3",
   "version": "3.9.6"
  },
  "orig_nbformat": 4
 },
 "nbformat": 4,
 "nbformat_minor": 2
}
